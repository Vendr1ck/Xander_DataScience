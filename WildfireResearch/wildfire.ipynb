{
 "cells": [
  {
   "cell_type": "markdown",
   "metadata": {},
   "source": [
    "This project is about analyzing the causes of fires in California, particularly mand-made vs. natural, to attempt to predict when fires might be likelier to occur. This project will be analyzing the scale and location of the fires, comparing those factors to the cause, and attempt to find trends that might indicate when/where a fire is likelier to break out.\n",
    "\n",
    "[insert rationale for why certain data sets were used and how they were prepared after actually doing the work below]\n",
    "There are two datasets strictly about fires that are going to be looked at. The first is a record of all fires dating back from 1878, although this will be clipped to 1950 to present to match the data available for lightning occurences in California. Both of these datasets have location data, so we can compare yearly fires and thunderstorm occurences for specific regions. This allows us to understand how much of a threat, in terms of fire likelihood, lightning can be. Additionally, there are two more data sets that analyze small(<5000 acres) and large(>=5000 acres) fires over the past five years, so we can focus on both very broad trends over many years, as well as more recent trends that might better help us predict the immediate future."
   ]
  },
  {
   "cell_type": "code",
   "execution_count": 18,
   "metadata": {},
   "outputs": [
    {
     "name": "stdout",
     "output_type": "stream",
     "text": [
      "        YEAR_              ALARM_DATE               CONT_DATE  \\\n",
      "0      2020.0  2020/06/18 00:00:00+00  2020/06/23 00:00:00+00   \n",
      "1      2020.0  2020/06/01 00:00:00+00  2020/06/04 00:00:00+00   \n",
      "2      2020.0  2020/08/10 00:00:00+00  2020/03/01 00:00:00+00   \n",
      "3      2020.0  2020/03/31 00:00:00+00  2020/04/01 00:00:00+00   \n",
      "4      2020.0  2020/04/14 00:00:00+00  2020/04/19 00:00:00+00   \n",
      "...       ...                     ...                     ...   \n",
      "21312  2019.0  2019/10/21 00:00:00+00  2019/10/22 00:00:00+00   \n",
      "21314  2019.0  2019/10/28 00:00:00+00  2019/10/28 00:00:00+00   \n",
      "21315  2019.0  2019/11/09 00:00:00+00  2019/11/10 00:00:00+00   \n",
      "21316  2019.0                     NaN                     NaN   \n",
      "21317  2019.0  2019/10/10 00:00:00+00  2019/10/31 00:00:00+00   \n",
      "\n",
      "                         CAUSE    GIS_ACRES  C_METHOD  SHAPE_Length  \\\n",
      "0                    Powerline   109.602500       1.0   4179.743142   \n",
      "1                Equipment Use   685.585020       1.0  12399.375391   \n",
      "2          Unkown/Unidentified    27.300480       1.0   2119.194120   \n",
      "3                Miscellaneous    12.931550       1.0   2029.524881   \n",
      "4      Escaped Prescribed Burn    10.315960       1.0   1342.742903   \n",
      "...                        ...          ...       ...           ...   \n",
      "21312      Unkown/Unidentified    42.282562       8.0   2802.236197   \n",
      "21314      Unkown/Unidentified     8.482671       8.0   1215.382952   \n",
      "21315      Unkown/Unidentified    64.888229       8.0   4093.657796   \n",
      "21316      Unkown/Unidentified    66.587181       8.0   4777.042672   \n",
      "21317      Unkown/Unidentified  8799.325200       7.0  86547.407832   \n",
      "\n",
      "         SHAPE_Area  \n",
      "0     -7.331347e+05  \n",
      "1     -4.578172e+06  \n",
      "2     -1.823876e+05  \n",
      "3     -8.667942e+04  \n",
      "4     -7.017912e+04  \n",
      "...             ...  \n",
      "21312 -2.499354e+05  \n",
      "21314 -5.024716e+04  \n",
      "21315 -3.843117e+05  \n",
      "21316 -4.051741e+05  \n",
      "21317 -5.233553e+07  \n",
      "\n",
      "[21270 rows x 8 columns]\n"
     ]
    }
   ],
   "source": [
    "import pandas as pd\n",
    "import csv\n",
    "import os\n",
    "\n",
    "#Causes\n",
    "# 1 - Lightning\n",
    "# 2 - Equipment Use\n",
    "# 3 - Smoking\n",
    "# 4 - Campfire\n",
    "# 5 - Debris\n",
    "# 6 - Railroad\n",
    "# 7 - Arson\n",
    "# 8 - Playing With Fire\n",
    "# 9 - Miscellaneous\n",
    "# 10 - Vehicle\n",
    "# 11 - Powerline\n",
    "# 12 - \n",
    "# 13 - \n",
    "# 14 - Unknown/Unidentified\n",
    "causes = {1:\"Lightning\", 2:\"Equipment Use\", 3:\"Smoking\", 4:\"Campfire\", 5:\"Debris\", 6:\"Railroad\", 7:\"Arson\", 8:\"Playing With Fire\",\n",
    "          9: \"Miscellaneous\", 10:\"Vehicle\", 11:\"Powerline\", 12:\"DNE\", 13:\"DNE\", 14:\"Unkown/Unidentified\", 18:\"Escaped Prescribed Burn\", None:\"DNE\"}\n",
    "#C_Method\n",
    "# 1 - GPS Ground\n",
    "# 2 - GPS Air\n",
    "# 3 - Infrared\n",
    "# 4 - Other Imagery\n",
    "# 5 - Photo Interpretation\n",
    "# 6 - Hand Drawn\n",
    "# 7 - Mixed Collection Methods\n",
    "# 8 - Unknown\n",
    "\n",
    "#declaring a list of columns we dont care about to remove later\n",
    "ignoreLabels = [\"OBJECTID\", \"STATE\", \"AGENCY\" , \"UNIT_ID\",  \"FIRE_NAME\", \"INC_NUM\", \"COMMENTS\", \"REPORT_AC\", \"OBJECTIVE\", \"FIRE_NUM\"]\n",
    "\n",
    "#getting the .csv data as pandas dataframe\n",
    "firesAll = pd.read_csv(\"California_Fire_Perimeters_(all).csv\")\n",
    "\n",
    "#cleaning the data\n",
    "firesAll.drop(labels=ignoreLabels, axis=1, inplace=True) #gets rid of columns that we know are not useful for this study\n",
    "firesAll.CAUSE.replace(causes, inplace=True) #substitutes the number value for causes with the appropriate string\n",
    "firesAll.dropna(axis=0, subset=[\"CAUSE\"], inplace=True) #gets rid of rows in cause that do not exist\n",
    "\n",
    "print(firesAll)"
   ]
  }
 ],
 "metadata": {
  "interpreter": {
   "hash": "07efdcd4b820c98a756949507a4d29d7862823915ec7477944641bea022f4f62"
  },
  "kernelspec": {
   "display_name": "Python 3.9.7 ('base')",
   "language": "python",
   "name": "python3"
  },
  "language_info": {
   "codemirror_mode": {
    "name": "ipython",
    "version": 3
   },
   "file_extension": ".py",
   "mimetype": "text/x-python",
   "name": "python",
   "nbconvert_exporter": "python",
   "pygments_lexer": "ipython3",
   "version": "3.9.7"
  },
  "orig_nbformat": 4
 },
 "nbformat": 4,
 "nbformat_minor": 2
}
