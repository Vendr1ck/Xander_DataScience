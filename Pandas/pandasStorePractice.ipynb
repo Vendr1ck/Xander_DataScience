{
 "cells": [
  {
   "cell_type": "code",
   "execution_count": 1,
   "metadata": {},
   "outputs": [
    {
     "name": "stdout",
     "output_type": "stream",
     "text": [
      "   Store ID       Location  # of Stores\n",
      "0         1      San Diego          100\n",
      "1         2    Los Angeles          120\n",
      "2         3  San Francisco           90\n",
      "3         4     Sacramento          115\n",
      "   Product ID Product Name   Name\n",
      "0           1      t-shirt   blue\n",
      "1           2      t-shirt  green\n",
      "2           3        skirt    red\n",
      "3           4        skirt  black\n",
      "      age  sex     bmi  children  smoker     region      charges      cost\n",
      "0      18    0  26.315         0       0  northeast   2198.18985   1736.55\n",
      "1      18    0  38.665         2       0  northeast   3393.35635   7156.05\n",
      "2      18    0  35.625         0       0  northeast   2211.13075   5181.25\n",
      "3      18    0  30.115         0       0  northeast  21344.84670   3142.55\n",
      "4      18    0  36.850         0       1  southeast  36149.48350  29634.50\n",
      "...   ...  ...     ...       ...     ...        ...          ...       ...\n",
      "1333   64    1  38.190         0       0  northeast  14410.93210  17502.30\n",
      "1334   64    1  37.905         0       0  northwest  14210.53595  17396.85\n",
      "1335   64    1  26.410         0       0  northeast  14394.55790  13143.70\n",
      "1336   64    1  36.960         2       1  southeast  49577.66240  41897.20\n",
      "1337   64    1  23.760         0       1  southeast  26926.51440  36163.20\n",
      "\n",
      "[1338 rows x 8 columns]\n",
      "     age  sex     bmi  children  smoker     region      charges      cost\n",
      "0     18    0  26.315         0       0  northeast   2198.18985   1736.55\n",
      "1     18    0  38.665         2       0  northeast   3393.35635   7156.05\n",
      "2     18    0  35.625         0       0  northeast   2211.13075   5181.25\n",
      "3     18    0  30.115         0       0  northeast  21344.84670   3142.55\n",
      "4     18    0  36.850         0       1  southeast  36149.48350  29634.50\n",
      "..   ...  ...     ...       ...     ...        ...          ...       ...\n",
      "657   64    0  22.990         0       1  southeast  27037.91410  36006.30\n",
      "658   64    0  39.700         0       0  southwest  14319.03100  18189.00\n",
      "659   64    0  35.970         0       0  southeast  14313.84630  16808.90\n",
      "660   64    0  31.825         2       0  northeast  16069.08475  16125.25\n",
      "661   64    0  26.885         0       1  northwest  29330.98315  37447.45\n",
      "\n",
      "[662 rows x 8 columns]\n",
      "      age  sex     bmi  children  smoker     region      charges      cost\n",
      "4      18    0  36.850         0       1  southeast  36149.48350  29634.50\n",
      "21     18    0  42.240         0       1  southeast  38792.68560  31628.80\n",
      "28     18    0  27.280         3       1  southeast  18223.45120  27368.60\n",
      "30     18    0  21.660         0       1  northeast  14283.45940  24014.20\n",
      "33     19    0  27.900         0       1  southwest  16884.92400  26573.00\n",
      "...   ...  ...     ...       ...     ...        ...          ...       ...\n",
      "1314   62    1  26.695         0       1  northeast  28101.33305  36749.15\n",
      "1317   63    1  35.090         0       1  southeast  47055.53210  40105.30\n",
      "1331   64    1  33.880         0       1  southeast  46889.26120  39907.60\n",
      "1336   64    1  36.960         2       1  southeast  49577.66240  41897.20\n",
      "1337   64    1  23.760         0       1  southeast  26926.51440  36163.20\n",
      "\n",
      "[274 rows x 8 columns]\n"
     ]
    }
   ],
   "source": [
    "import pandas as pd\n",
    "\n",
    "#dataframe information for Pita Power\n",
    "pita = pd.DataFrame([[1, \"San Diego\", 100], [2, \"Los Angeles\", 120], [3, \"San Francisco\", 90], [4, \"Sacramento\", 115]], columns=[\"Store ID\", \"Location\", \"# of Stores\"])\n",
    "print(pita)\n",
    "\n",
    "#dataframe information for Panda's Wardrobe\n",
    "wardrobe = pd.DataFrame([[1, \"t-shirt\", \"blue\"], [2, \"t-shirt\", \"green\"], [3, \"skirt\", \"red\"], [4, \"skirt\", \"black\"]], columns=[\"Product ID\", \"Product Name\", \"Name\"])\n",
    "print(wardrobe)\n",
    "\n",
    "#gets a dataframe from a .csv file\n",
    "insurance = pd.read_csv(\"insurance_data - insurance.csv\")\n",
    "insurance[\"sex\"].replace({\"female\": 0, \"male\": 1}, inplace=True)\n",
    "insurance[\"smoker\"].replace({\"no\": 0, \"yes\": 1}, inplace=True)\n",
    "\n",
    "insurance[\"cost\"] = 250*insurance[\"age\"] - 128*insurance[\"sex\"] + 370*insurance[\"bmi\"] + 425*insurance[\"children\"] + 24000*insurance[\"smoker\"] - 12500\n",
    "\n",
    "print(insurance)\n",
    "\n",
    "insuranceFemale = insurance[(insurance[\"sex\"] == 0)]\n",
    "print(insuranceFemale)\n",
    "\n",
    "insuranceSmoker = insurance[(insurance[\"smoker\"] == 1)]\n",
    "print(insuranceSmoker)\n",
    "\n",
    "#converts a .csv file from a dataframe\n",
    "wardrobe.to_csv(\"wardrobeData.csv\")"
   ]
  }
 ],
 "metadata": {
  "interpreter": {
   "hash": "07efdcd4b820c98a756949507a4d29d7862823915ec7477944641bea022f4f62"
  },
  "kernelspec": {
   "display_name": "Python 3.9.7 ('base')",
   "language": "python",
   "name": "python3"
  },
  "language_info": {
   "codemirror_mode": {
    "name": "ipython",
    "version": 3
   },
   "file_extension": ".py",
   "mimetype": "text/x-python",
   "name": "python",
   "nbconvert_exporter": "python",
   "pygments_lexer": "ipython3",
   "version": "3.9.7"
  },
  "orig_nbformat": 4
 },
 "nbformat": 4,
 "nbformat_minor": 2
}
