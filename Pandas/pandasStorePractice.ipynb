{
 "cells": [
  {
   "cell_type": "code",
   "execution_count": 5,
   "metadata": {},
   "outputs": [
    {
     "name": "stdout",
     "output_type": "stream",
     "text": [
      "   Store ID       Location  # of Stores\n",
      "0         1      San Diego          100\n",
      "1         2    Los Angeles          120\n",
      "2         3  San Francisco           90\n",
      "3         4     Sacramento          115\n",
      "   Product ID Product Name   Name\n",
      "0           1      t-shirt   blue\n",
      "1           2      t-shirt  green\n",
      "2           3        skirt    red\n",
      "3           4        skirt  black\n",
      "      age     sex     bmi  children smoker     region      charges\n",
      "0      18  female  26.315         0     no  northeast   2198.18985\n",
      "1      18  female  38.665         2     no  northeast   3393.35635\n",
      "2      18  female  35.625         0     no  northeast   2211.13075\n",
      "3      18  female  30.115         0     no  northeast  21344.84670\n",
      "4      18  female  36.850         0    yes  southeast  36149.48350\n",
      "...   ...     ...     ...       ...    ...        ...          ...\n",
      "1333   64    male  38.190         0     no  northeast  14410.93210\n",
      "1334   64    male  37.905         0     no  northwest  14210.53595\n",
      "1335   64    male  26.410         0     no  northeast  14394.55790\n",
      "1336   64    male  36.960         2    yes  southeast  49577.66240\n",
      "1337   64    male  23.760         0    yes  southeast  26926.51440\n",
      "\n",
      "[1338 rows x 7 columns]\n"
     ]
    }
   ],
   "source": [
    "import pandas as pd\n",
    "\n",
    "#dataframe information for Pita Power\n",
    "pita = pd.DataFrame([[1, \"San Diego\", 100], [2, \"Los Angeles\", 120], [3, \"San Francisco\", 90], [4, \"Sacramento\", 115]], columns=[\"Store ID\", \"Location\", \"# of Stores\"])\n",
    "print(pita)\n",
    "\n",
    "#dataframe information for Panda's Wardrobe\n",
    "wardrobe = pd.DataFrame([[1, \"t-shirt\", \"blue\"], [2, \"t-shirt\", \"green\"], [3, \"skirt\", \"red\"], [4, \"skirt\", \"black\"]], columns=[\"Product ID\", \"Product Name\", \"Name\"])\n",
    "print(wardrobe)\n",
    "\n",
    "#gets a dataframe from a .csv file\n",
    "insurance = pd.read_csv(\"insurance_data - insurance.csv\")\n",
    "print(insurance)\n",
    "\n",
    "#converts a .csv file from a dataframe\n",
    "wardrobe.to_csv(\"wardrobeData.csv\")"
   ]
  }
 ],
 "metadata": {
  "interpreter": {
   "hash": "07efdcd4b820c98a756949507a4d29d7862823915ec7477944641bea022f4f62"
  },
  "kernelspec": {
   "display_name": "Python 3.9.7 ('base')",
   "language": "python",
   "name": "python3"
  },
  "language_info": {
   "codemirror_mode": {
    "name": "ipython",
    "version": 3
   },
   "file_extension": ".py",
   "mimetype": "text/x-python",
   "name": "python",
   "nbconvert_exporter": "python",
   "pygments_lexer": "ipython3",
   "version": "3.9.7"
  },
  "orig_nbformat": 4
 },
 "nbformat": 4,
 "nbformat_minor": 2
}
