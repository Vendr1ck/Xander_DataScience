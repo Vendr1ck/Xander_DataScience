{
 "cells": [
  {
   "cell_type": "code",
   "execution_count": 19,
   "metadata": {},
   "outputs": [
    {
     "name": "stdout",
     "output_type": "stream",
     "text": [
      "   Name Age\n",
      "0  Jane  20\n",
      "1  Jack  19\n",
      "2  Jill  32\n",
      "3  John  26\n",
      "\n",
      "    Name  Age\n",
      "0  Peter   20\n",
      "1  Marco   12\n",
      "2  Chris   40\n",
      "\n",
      "      age     sex     bmi  children smoker     region      charges\n",
      "0      18  female  26.315         0     no  northeast   2198.18985\n",
      "1      18  female  38.665         2     no  northeast   3393.35635\n",
      "2      18  female  35.625         0     no  northeast   2211.13075\n",
      "3      18  female  30.115         0     no  northeast  21344.84670\n",
      "4      18  female  36.850         0    yes  southeast  36149.48350\n",
      "...   ...     ...     ...       ...    ...        ...          ...\n",
      "1333   64    male  38.190         0     no  northeast  14410.93210\n",
      "1334   64    male  37.905         0     no  northwest  14210.53595\n",
      "1335   64    male  26.410         0     no  northeast  14394.55790\n",
      "1336   64    male  36.960         2    yes  southeast  49577.66240\n",
      "1337   64    male  23.760         0    yes  southeast  26926.51440\n",
      "\n",
      "[1338 rows x 7 columns]\n",
      "\n",
      "    Name  Age\n",
      "2  Chris   40\n",
      "\n",
      "     age     sex     bmi  children smoker     region      charges\n",
      "86    21  female  21.850         1    yes  northeast  15359.10450\n",
      "101   22  female  31.020         3    yes  southeast  35595.58980\n",
      "102   22  female  30.400         0    yes  northwest  33907.54800\n",
      "106   23  female  36.670         2    yes  northeast  38511.62830\n",
      "107   23  female  28.310         0    yes  northwest  18033.96790\n",
      "..   ...     ...     ...       ...    ...        ...          ...\n",
      "645   63  female  26.980         0    yes  northwest  28950.46920\n",
      "651   64  female  31.300         2    yes  southwest  47291.05500\n",
      "653   64  female  33.800         1    yes  southwest  47928.03000\n",
      "657   64  female  22.990         0    yes  southeast  27037.91410\n",
      "661   64  female  26.885         0    yes  northwest  29330.98315\n",
      "\n",
      "[98 rows x 7 columns]\n"
     ]
    }
   ],
   "source": [
    "import pandas as pd\n",
    "\n",
    "#reading from dictionaries\n",
    "data = {\"Name\":[\"Jane\", \"Jack\", \"Jill\", \"John\"], \"Age\":[\"20\", \"19\", \"32\", \"26\"]}\n",
    "df = pd.DataFrame(data)\n",
    "print(df)\n",
    "\n",
    "print()\n",
    "\n",
    "#reading from lists\n",
    "listBig = [[\"Peter\", 20], [\"Marco\", 12], [\"Chris\", 40]]\n",
    "df2=pd.DataFrame(listBig, columns=[\"Name\", \"Age\"])\n",
    "print(df2)\n",
    "\n",
    "print()\n",
    "#reading from .csv file\n",
    "insurance = pd.read_csv('insurance_data - insurance.csv')\n",
    "print(insurance)\n",
    "\n",
    "print()\n",
    "#getting data that fulfills certain requirement\n",
    "print(df2[df2[df2.columns[1]] > 20])\n",
    "\n",
    "print()\n",
    "#more variable checks\n",
    "print(insurance[(insurance[\"age\"] > 20) & (insurance[\"smoker\"] == \"yes\") & (insurance[\"sex\"] == \"female\")])"
   ]
  }
 ],
 "metadata": {
  "interpreter": {
   "hash": "07efdcd4b820c98a756949507a4d29d7862823915ec7477944641bea022f4f62"
  },
  "kernelspec": {
   "display_name": "Python 3.9.7 ('base')",
   "language": "python",
   "name": "python3"
  },
  "language_info": {
   "codemirror_mode": {
    "name": "ipython",
    "version": 3
   },
   "file_extension": ".py",
   "mimetype": "text/x-python",
   "name": "python",
   "nbconvert_exporter": "python",
   "pygments_lexer": "ipython3",
   "version": "3.9.7"
  },
  "orig_nbformat": 4
 },
 "nbformat": 4,
 "nbformat_minor": 2
}
