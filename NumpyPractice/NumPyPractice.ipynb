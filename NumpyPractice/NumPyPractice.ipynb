{
 "cells": [
  {
   "cell_type": "markdown",
   "metadata": {},
   "source": [
    "numpy practice"
   ]
  },
  {
   "cell_type": "code",
   "execution_count": 50,
   "metadata": {},
   "outputs": [
    {
     "name": "stdout",
     "output_type": "stream",
     "text": [
      "int32\n",
      "[[0 0 0]\n",
      " [0 0 0]\n",
      " [0 0 0]]\n",
      "[[1 2 3]\n",
      " [4 5 6]\n",
      " [7 8 9]]\n",
      "dim =  2\n",
      "shape =  (3, 3)\n"
     ]
    }
   ],
   "source": [
    "import numpy as np\n",
    "import os\n",
    "import matplotlib.pyplot as plot\n",
    "\n",
    "os.system(\"cls\")\n",
    "\n",
    "zeroArray = np.zeros((3,3), dtype=np.int32) #create a 3 by 3 of integer zeros\n",
    "onesArray = np.ones((3,3), dtype=np.int32) #same as zeros, but with 1 instead\n",
    "constArray = np.full((3,3), 8, dtype=np.int32)#fills an array of the first parameters dimensions filled with the second parameter\n",
    "randomArray = np.random.randint(50,100, size=(4,4)) #creates a 4x4 array of random numbers from 50 to 100\n",
    "print(zeroArray.dtype)\n",
    "print(zeroArray)\n",
    "\n",
    "array1 = np.array([[1, 2, 3], [4, 5, 6], [7, 8, 9]], dtype=np.int32) #prints a 3 by 3\n",
    "print(array1)\n",
    "\n",
    "print(\"dim = \", array1.ndim)#returns how many dimensions, not rows and cols\n",
    "print(\"shape = \", array1.shape)#returns the \"shape\" of the array (rows and cols)"
   ]
  },
  {
   "cell_type": "markdown",
   "metadata": {},
   "source": [
    "Operations with arrays and data types"
   ]
  },
  {
   "cell_type": "code",
   "execution_count": 51,
   "metadata": {},
   "outputs": [
    {
     "name": "stdout",
     "output_type": "stream",
     "text": [
      "[[ 9 10 11]\n",
      " [12 13 14]\n",
      " [15 16 17]]\n",
      "[[ 9 12 15]\n",
      " [10 13 16]\n",
      " [11 14 17]]\n",
      "[ 0.   0.5  1.   1.5  2.   2.5  3.   3.5  4.   4.5  5.   5.5  6.   6.5\n",
      "  7.   7.5  8.   8.5  9.   9.5 10. ]\n",
      "[ 10  15  20  25  30  35  40  45  50  55  60  65  70  75  80  85  90  95\n",
      " 100 105 110 115 120 125 130 135 140 145 150 155 160 165 170 175 180 185\n",
      " 190 195]\n",
      "[ 60  65  70  75  80  85  90  95 100 105 110 115 120 125 130 135 140 145\n",
      " 150 155 160 165 170 175 180 185 190 195]\n",
      "[ 0.   0.5  1.   1.5  2.   2.5  3.   3.5  4.   4.5  5.   5.5  6.   6.5\n",
      "  7.   7.5  8.   8.5  9.   9.5 10. ]\n",
      "105.0\n",
      "\n",
      "[3. 6. 9.]\n"
     ]
    },
    {
     "data": {
      "text/plain": [
       "<matplotlib.collections.PathCollection at 0x25740834970>"
      ]
     },
     "execution_count": 51,
     "metadata": {},
     "output_type": "execute_result"
    },
    {
     "data": {
      "image/png": "[encoded data removed]",
      "text/plain": [
       "<Figure size 432x288 with 1 Axes>"
      ]
     },
     "metadata": {
      "needs_background": "light"
     },
     "output_type": "display_data"
    }
   ],
   "source": [
    "array3 = array1 + constArray\n",
    "print(array3)\n",
    "\n",
    "# sum=np.add(array1, array3, onesArray) #not working not sure why\n",
    "# print(sum)\n",
    "\n",
    "print(array3.T)\n",
    "\n",
    "arrayLine = np.linspace(0, 10, 21)\n",
    "print(arrayLine)\n",
    "\n",
    "arrayRange = np.arange(10, 200, 5)\n",
    "print(arrayRange)\n",
    "print(arrayRange[10:])\n",
    "arrayCrazy = arrayRange[arrayRange%40==0]**2\n",
    "\n",
    "#add all elements\n",
    "sumLine = arrayLine.sum()\n",
    "print(arrayLine)\n",
    "print(sumLine)\n",
    "print()\n",
    "\n",
    "age = array1[ :,2].astype(np.float32)\n",
    "print(age)\n",
    "\n",
    "bmi = array1[ :,0].astype(np.int32)\n",
    "\n",
    "plot.scatter(age, bmi)"
   ]
  }
 ],
 "metadata": {
  "interpreter": {
   "hash": "07efdcd4b820c98a756949507a4d29d7862823915ec7477944641bea022f4f62"
  },
  "kernelspec": {
   "display_name": "Python 3.9.7 64-bit ('base': conda)",
   "language": "python",
   "name": "python3"
  },
  "language_info": {
   "codemirror_mode": {
    "name": "ipython",
    "version": 3
   },
   "file_extension": ".py",
   "mimetype": "text/x-python",
   "name": "python",
   "nbconvert_exporter": "python",
   "pygments_lexer": "ipython3",
   "version": "3.9.7"
  },
  "orig_nbformat": 4
 },
 "nbformat": 4,
 "nbformat_minor": 2
}
